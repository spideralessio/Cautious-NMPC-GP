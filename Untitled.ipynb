{
 "cells": [
  {
   "cell_type": "code",
   "execution_count": 20,
   "id": "exterior-problem",
   "metadata": {},
   "outputs": [],
   "source": [
    "import gpflow\n",
    "import numpy as np\n",
    "import matplotlib.pyplot as plt\n",
    "import tensorflow as tf\n",
    "from gpflow.utilities import print_summary\n",
    "\n",
    "# The lines below are specific to the notebook format\n",
    "%matplotlib inline\n",
    "plt.rcParams[\"figure.figsize\"] = (12, 6)"
   ]
  },
  {
   "cell_type": "code",
   "execution_count": 69,
   "id": "injured-cartoon",
   "metadata": {},
   "outputs": [
    {
     "data": {
      "image/png": "[encoded data removed]",
      "text/plain": [
       "<Figure size 864x432 with 1 Axes>"
      ]
     },
     "metadata": {
      "needs_background": "light"
     },
     "output_type": "display_data"
    }
   ],
   "source": [
    "X = np.arange(0,10,0.1)\n",
    "Y1 = np.sin(X)\n",
    "Y2 = np.cos(X)\n",
    "\n",
    "_ = plt.plot(X, Y, \"kx\", mew=2)"
   ]
  },
  {
   "cell_type": "code",
   "execution_count": 74,
   "id": "excess-cricket",
   "metadata": {},
   "outputs": [],
   "source": [
    "Y = np.vstack([Y1,Y2]).transpose()"
   ]
  },
  {
   "cell_type": "code",
   "execution_count": 75,
   "id": "undefined-tennis",
   "metadata": {},
   "outputs": [
    {
     "data": {
      "text/plain": [
       "(100, 2)"
      ]
     },
     "execution_count": 75,
     "metadata": {},
     "output_type": "execute_result"
    }
   ],
   "source": [
    "Y.shape"
   ]
  },
  {
   "cell_type": "code",
   "execution_count": 23,
   "id": "referenced-andrews",
   "metadata": {},
   "outputs": [],
   "source": [
    "k = gpflow.kernels.Matern52()\n"
   ]
  },
  {
   "cell_type": "code",
   "execution_count": 76,
   "id": "italic-avatar",
   "metadata": {},
   "outputs": [],
   "source": [
    "m = gpflow.models.GPR(data=(X.reshape(-1,1), Y), kernel=k, mean_function=None)\n"
   ]
  },
  {
   "cell_type": "code",
   "execution_count": 77,
   "id": "buried-sterling",
   "metadata": {},
   "outputs": [],
   "source": [
    "opt = gpflow.optimizers.Scipy()\n"
   ]
  },
  {
   "cell_type": "code",
   "execution_count": 78,
   "id": "criminal-editing",
   "metadata": {},
   "outputs": [
    {
     "name": "stdout",
     "output_type": "stream",
     "text": [
      "╒═════════════════════════╤═══════════╤══════════════════╤═════════╤═════════════╤═════════╤═════════╤═════════════╕\n",
      "│ name                    │ class     │ transform        │ prior   │ trainable   │ shape   │ dtype   │       value │\n",
      "╞═════════════════════════╪═══════════╪══════════════════╪═════════╪═════════════╪═════════╪═════════╪═════════════╡\n",
      "│ GPR.kernel.variance     │ Parameter │ Softplus         │         │ True        │ ()      │ float64 │ 0.0135414   │\n",
      "├─────────────────────────┼───────────┼──────────────────┼─────────┼─────────────┼─────────┼─────────┼─────────────┤\n",
      "│ GPR.kernel.lengthscales │ Parameter │ Softplus         │         │ True        │ ()      │ float64 │ 1.94458e+06 │\n",
      "├─────────────────────────┼───────────┼──────────────────┼─────────┼─────────────┼─────────┼─────────┼─────────────┤\n",
      "│ GPR.likelihood.variance │ Parameter │ Softplus + Shift │         │ True        │ ()      │ float64 │ 0.486458    │\n",
      "╘═════════════════════════╧═══════════╧══════════════════╧═════════╧═════════════╧═════════╧═════════╧═════════════╛\n"
     ]
    }
   ],
   "source": [
    "opt_logs = opt.minimize(m.training_loss, m.trainable_variables, options=dict(maxiter=100))\n",
    "print_summary(m)"
   ]
  },
  {
   "cell_type": "code",
   "execution_count": 79,
   "id": "difficult-sponsorship",
   "metadata": {},
   "outputs": [],
   "source": [
    "with tf.GradientTape() as g:\n",
    "    x = tf.ones((1,1), dtype=tf.float64)*3\n",
    "    g.watch(x)\n",
    "    uy,sdy = m.predict_y(x)\n"
   ]
  },
  {
   "cell_type": "code",
   "execution_count": 80,
   "id": "light-indicator",
   "metadata": {},
   "outputs": [
    {
     "data": {
      "text/plain": [
       "[<tf.Tensor: shape=(1, 1), dtype=float64, numpy=array([[-6.14953675e-13]])>]"
      ]
     },
     "execution_count": 80,
     "metadata": {},
     "output_type": "execute_result"
    }
   ],
   "source": [
    "g.gradient(uy,[x])"
   ]
  },
  {
   "cell_type": "code",
   "execution_count": 81,
   "id": "civil-malpractice",
   "metadata": {},
   "outputs": [
    {
     "data": {
      "text/plain": [
       "<tf.Tensor: shape=(1, 2), dtype=float64, numpy=array([[ 0.1371902 , -0.03322556]])>"
      ]
     },
     "execution_count": 81,
     "metadata": {},
     "output_type": "execute_result"
    }
   ],
   "source": [
    "uy"
   ]
  },
  {
   "cell_type": "code",
   "execution_count": 82,
   "id": "spanish-columbus",
   "metadata": {},
   "outputs": [
    {
     "data": {
      "text/plain": [
       "<tf.Tensor: shape=(1, 2), dtype=float64, numpy=array([[0.49003723, 0.49003723]])>"
      ]
     },
     "execution_count": 82,
     "metadata": {},
     "output_type": "execute_result"
    }
   ],
   "source": [
    "sdy"
   ]
  },
  {
   "cell_type": "code",
   "execution_count": null,
   "id": "determined-basic",
   "metadata": {},
   "outputs": [],
   "source": []
  }
 ],
 "metadata": {
  "kernelspec": {
   "display_name": "Python (Tensorflow)",
   "language": "python",
   "name": "tensorflow"
  },
  "language_info": {
   "codemirror_mode": {
    "name": "ipython",
    "version": 3
   },
   "file_extension": ".py",
   "mimetype": "text/x-python",
   "name": "python",
   "nbconvert_exporter": "python",
   "pygments_lexer": "ipython3",
   "version": "3.8.0"
  }
 },
 "nbformat": 4,
 "nbformat_minor": 5
}
